{
  "nbformat": 4,
  "nbformat_minor": 0,
  "metadata": {
    "colab": {
      "provenance": [],
      "gpuType": "T4",
      "mount_file_id": "https://github.com/Amehlawal/AI_and_ML/blob/main/Dog%20Breed%20Identification/code.ipynb",
      "authorship_tag": "ABX9TyPuKpPuQKjG8JG5Xh1alpJA",
      "include_colab_link": true
    },
    "kernelspec": {
      "name": "python3",
      "display_name": "Python 3"
    },
    "language_info": {
      "name": "python"
    },
    "accelerator": "GPU"
  },
  "cells": [
    {
      "cell_type": "markdown",
      "metadata": {
        "id": "view-in-github",
        "colab_type": "text"
      },
      "source": [
        "<a href=\"https://colab.research.google.com/github/Amehlawal/AI_and_ML/blob/main/Dog%20Breed%20Identification/code.ipynb\" target=\"_parent\"><img src=\"https://colab.research.google.com/assets/colab-badge.svg\" alt=\"Open In Colab\"/></a>"
      ]
    },
    {
      "cell_type": "markdown",
      "source": [
        "# 🐶 End-to-end Multi-class Dog Breed Classification  \n",
        "\n",
        "This notebook builds an end-to-end multi-class image classifier using **TensorFlow 2.0** and **TensorFlow Hub**.  \n",
        "\n",
        "---\n",
        "\n",
        "## 1. Problem  \n",
        "Identifying the breed of a dog given an image of a dog.  \n",
        "\n",
        "When I'm sitting at the cafe and I take a photo of a dog, I want to know what breed of dog it is.  \n",
        "\n",
        "---\n",
        "\n",
        "## 2. Data  \n",
        "The data we're using is from Kaggle's dog breed identification competition.  \n",
        "\n",
        "🔗 [Dog Breed Identification Dataset](https://www.kaggle.com/c/dog-breed-identification/data)  \n",
        "\n",
        "---\n",
        "\n",
        "## 3. Evaluation  \n",
        "The evaluation is a file with prediction probabilities for each dog breed of each test image.  \n",
        "\n",
        "🔗 [Evaluation Overview](https://www.kaggle.com/c/dog-breed-identification/overview/evaluation)  \n"
      ],
      "metadata": {
        "id": "4GjSp1uH7wkX"
      }
    },
    {
      "cell_type": "code",
      "source": [
        "#!unzip \"/content/drive/MyDrive/Datasets/dog-breed-identification.zip\" -d \"/content/drive/MyDrive/Datasets/\""
      ],
      "metadata": {
        "id": "KyzIMrvitWZr"
      },
      "execution_count": null,
      "outputs": []
    },
    {
      "cell_type": "code",
      "source": [],
      "metadata": {
        "id": "GB6YsaNghl_L"
      },
      "execution_count": null,
      "outputs": []
    },
    {
      "cell_type": "markdown",
      "source": [
        "### Get our workspace ready"
      ],
      "metadata": {
        "id": "ykJ8xW3c2eag"
      }
    },
    {
      "cell_type": "code",
      "source": [
        "import tensorflow as tf\n",
        "import tensorflow_hub as hub\n",
        "print(tf.__version__)\n",
        "print(hub.__version__)\n",
        "\n",
        "print(\"GPU\", \"available (YESSS)\" if tf.config.list_physical_devices(\"GPU\") else \"not available\")"
      ],
      "metadata": {
        "id": "cvyC_VEz2i6R",
        "outputId": "fe674beb-2206-46c2-e40b-02d4ec00a4c0",
        "colab": {
          "base_uri": "https://localhost:8080/"
        }
      },
      "execution_count": 1,
      "outputs": [
        {
          "output_type": "stream",
          "name": "stdout",
          "text": [
            "2.19.0\n",
            "0.16.1\n",
            "GPU available (YESSS)\n"
          ]
        }
      ]
    },
    {
      "cell_type": "code",
      "source": [],
      "metadata": {
        "id": "7zT1m78x2oc6"
      },
      "execution_count": null,
      "outputs": []
    }
  ]
}